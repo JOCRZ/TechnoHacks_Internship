{
 "cells": [
  {
   "cell_type": "markdown",
   "metadata": {
    "papermill": {
     "duration": 0.032297,
     "end_time": "2020-12-29T06:07:42.383241",
     "exception": false,
     "start_time": "2020-12-29T06:07:42.350944",
     "status": "completed"
    },
    "tags": []
   },
   "source": [
    " ## **Credit Card Fraud Classification with Features Selection and Ensemble Learning**"
   ]
  },
  {
   "cell_type": "markdown",
   "metadata": {
    "papermill": {
     "duration": 0.025697,
     "end_time": "2020-12-29T06:07:42.436014",
     "exception": false,
     "start_time": "2020-12-29T06:07:42.410317",
     "status": "completed"
    },
    "tags": []
   },
   "source": [
    "This is my first Kaggle Contribution, using a very well-rated dataset in the community: the **Credit Card Fraud Dataset**. Sometimes, use all variables in a classification can be time consuming, and create overfitting. The objective of this work is to find, through Feature Selection, the most significant variables for the recognition of credit card fraud patterns, and subsequently to test the efficiency of some Machine Learning models (using this variables) working both separately and together, through Ensemble Learning."
   ]
  },
  {
   "cell_type": "markdown",
   "metadata": {
    "papermill": {
     "duration": 0.025815,
     "end_time": "2020-12-29T06:07:42.487997",
     "exception": false,
     "start_time": "2020-12-29T06:07:42.462182",
     "status": "completed"
    },
    "tags": []
   },
   "source": [
    "First, the libraries and the dataset for this Notebook are imported[](http://)"
   ]
  },
  {
   "cell_type": "code",
   "execution_count": 1,
   "metadata": {
    "_cell_guid": "b1076dfc-b9ad-4769-8c92-a6c4dae69d19",
    "_uuid": "8f2839f25d086af736a60e9eeb907d3b93b6e0e5",
    "execution": {
     "iopub.execute_input": "2020-12-29T06:07:42.549776Z",
     "iopub.status.busy": "2020-12-29T06:07:42.549021Z",
     "iopub.status.idle": "2020-12-29T06:07:43.721944Z",
     "shell.execute_reply": "2020-12-29T06:07:43.721324Z"
    },
    "papermill": {
     "duration": 1.208188,
     "end_time": "2020-12-29T06:07:43.722075",
     "exception": false,
     "start_time": "2020-12-29T06:07:42.513887",
     "status": "completed"
    },
    "tags": []
   },
   "outputs": [],
   "source": [
    "# Base Libraries\n",
    "import matplotlib.pyplot as plt  \n",
    "import pandas as pd\n",
    "import numpy as np\n",
    "from numpy import set_printoptions\n",
    "from numpy import mean\n",
    "# Models\n",
    "from sklearn.model_selection import train_test_split\n",
    "from sklearn.model_selection import GridSearchCV\n",
    "from sklearn.neighbors import KNeighborsClassifier\n",
    "from sklearn.linear_model import LogisticRegression\n",
    "from sklearn.ensemble import RandomForestClassifier\n",
    "from sklearn.ensemble import ExtraTreesClassifier\n",
    "from sklearn.ensemble import VotingClassifier\n",
    "from sklearn.ensemble import StackingClassifier\n",
    "# Metrics\n",
    "from sklearn.metrics import accuracy_score\n",
    "from sklearn.metrics import auc\n",
    "from sklearn.metrics import roc_curve\n",
    "from sklearn.metrics import plot_confusion_matrix"
   ]
  },
  {
   "cell_type": "code",
   "execution_count": 2,
   "metadata": {
    "_cell_guid": "79c7e3d0-c299-4dcb-8224-4455121ee9b0",
    "_uuid": "d629ff2d2480ee46fbb7e2d37f6b5fab8052498a",
    "execution": {
     "iopub.execute_input": "2020-12-29T06:07:43.788315Z",
     "iopub.status.busy": "2020-12-29T06:07:43.787708Z",
     "iopub.status.idle": "2020-12-29T06:07:47.625338Z",
     "shell.execute_reply": "2020-12-29T06:07:47.624836Z"
    },
    "papermill": {
     "duration": 3.875608,
     "end_time": "2020-12-29T06:07:47.625449",
     "exception": false,
     "start_time": "2020-12-29T06:07:43.749841",
     "status": "completed"
    },
    "tags": []
   },
   "outputs": [
    {
     "data": {
      "text/html": [
       "<div>\n",
       "<style scoped>\n",
       "    .dataframe tbody tr th:only-of-type {\n",
       "        vertical-align: middle;\n",
       "    }\n",
       "\n",
       "    .dataframe tbody tr th {\n",
       "        vertical-align: top;\n",
       "    }\n",
       "\n",
       "    .dataframe thead th {\n",
       "        text-align: right;\n",
       "    }\n",
       "</style>\n",
       "<table border=\"1\" class=\"dataframe\">\n",
       "  <thead>\n",
       "    <tr style=\"text-align: right;\">\n",
       "      <th></th>\n",
       "      <th>Time</th>\n",
       "      <th>V1</th>\n",
       "      <th>V2</th>\n",
       "      <th>V3</th>\n",
       "      <th>V4</th>\n",
       "      <th>V5</th>\n",
       "      <th>V6</th>\n",
       "      <th>V7</th>\n",
       "      <th>V8</th>\n",
       "      <th>V9</th>\n",
       "      <th>...</th>\n",
       "      <th>V21</th>\n",
       "      <th>V22</th>\n",
       "      <th>V23</th>\n",
       "      <th>V24</th>\n",
       "      <th>V25</th>\n",
       "      <th>V26</th>\n",
       "      <th>V27</th>\n",
       "      <th>V28</th>\n",
       "      <th>Amount</th>\n",
       "      <th>Class</th>\n",
       "    </tr>\n",
       "  </thead>\n",
       "  <tbody>\n",
       "    <tr>\n",
       "      <th>0</th>\n",
       "      <td>0.0</td>\n",
       "      <td>-1.359807</td>\n",
       "      <td>-0.072781</td>\n",
       "      <td>2.536347</td>\n",
       "      <td>1.378155</td>\n",
       "      <td>-0.338321</td>\n",
       "      <td>0.462388</td>\n",
       "      <td>0.239599</td>\n",
       "      <td>0.098698</td>\n",
       "      <td>0.363787</td>\n",
       "      <td>...</td>\n",
       "      <td>-0.018307</td>\n",
       "      <td>0.277838</td>\n",
       "      <td>-0.110474</td>\n",
       "      <td>0.066928</td>\n",
       "      <td>0.128539</td>\n",
       "      <td>-0.189115</td>\n",
       "      <td>0.133558</td>\n",
       "      <td>-0.021053</td>\n",
       "      <td>149.62</td>\n",
       "      <td>0</td>\n",
       "    </tr>\n",
       "    <tr>\n",
       "      <th>1</th>\n",
       "      <td>0.0</td>\n",
       "      <td>1.191857</td>\n",
       "      <td>0.266151</td>\n",
       "      <td>0.166480</td>\n",
       "      <td>0.448154</td>\n",
       "      <td>0.060018</td>\n",
       "      <td>-0.082361</td>\n",
       "      <td>-0.078803</td>\n",
       "      <td>0.085102</td>\n",
       "      <td>-0.255425</td>\n",
       "      <td>...</td>\n",
       "      <td>-0.225775</td>\n",
       "      <td>-0.638672</td>\n",
       "      <td>0.101288</td>\n",
       "      <td>-0.339846</td>\n",
       "      <td>0.167170</td>\n",
       "      <td>0.125895</td>\n",
       "      <td>-0.008983</td>\n",
       "      <td>0.014724</td>\n",
       "      <td>2.69</td>\n",
       "      <td>0</td>\n",
       "    </tr>\n",
       "    <tr>\n",
       "      <th>2</th>\n",
       "      <td>1.0</td>\n",
       "      <td>-1.358354</td>\n",
       "      <td>-1.340163</td>\n",
       "      <td>1.773209</td>\n",
       "      <td>0.379780</td>\n",
       "      <td>-0.503198</td>\n",
       "      <td>1.800499</td>\n",
       "      <td>0.791461</td>\n",
       "      <td>0.247676</td>\n",
       "      <td>-1.514654</td>\n",
       "      <td>...</td>\n",
       "      <td>0.247998</td>\n",
       "      <td>0.771679</td>\n",
       "      <td>0.909412</td>\n",
       "      <td>-0.689281</td>\n",
       "      <td>-0.327642</td>\n",
       "      <td>-0.139097</td>\n",
       "      <td>-0.055353</td>\n",
       "      <td>-0.059752</td>\n",
       "      <td>378.66</td>\n",
       "      <td>0</td>\n",
       "    </tr>\n",
       "    <tr>\n",
       "      <th>3</th>\n",
       "      <td>1.0</td>\n",
       "      <td>-0.966272</td>\n",
       "      <td>-0.185226</td>\n",
       "      <td>1.792993</td>\n",
       "      <td>-0.863291</td>\n",
       "      <td>-0.010309</td>\n",
       "      <td>1.247203</td>\n",
       "      <td>0.237609</td>\n",
       "      <td>0.377436</td>\n",
       "      <td>-1.387024</td>\n",
       "      <td>...</td>\n",
       "      <td>-0.108300</td>\n",
       "      <td>0.005274</td>\n",
       "      <td>-0.190321</td>\n",
       "      <td>-1.175575</td>\n",
       "      <td>0.647376</td>\n",
       "      <td>-0.221929</td>\n",
       "      <td>0.062723</td>\n",
       "      <td>0.061458</td>\n",
       "      <td>123.50</td>\n",
       "      <td>0</td>\n",
       "    </tr>\n",
       "    <tr>\n",
       "      <th>4</th>\n",
       "      <td>2.0</td>\n",
       "      <td>-1.158233</td>\n",
       "      <td>0.877737</td>\n",
       "      <td>1.548718</td>\n",
       "      <td>0.403034</td>\n",
       "      <td>-0.407193</td>\n",
       "      <td>0.095921</td>\n",
       "      <td>0.592941</td>\n",
       "      <td>-0.270533</td>\n",
       "      <td>0.817739</td>\n",
       "      <td>...</td>\n",
       "      <td>-0.009431</td>\n",
       "      <td>0.798278</td>\n",
       "      <td>-0.137458</td>\n",
       "      <td>0.141267</td>\n",
       "      <td>-0.206010</td>\n",
       "      <td>0.502292</td>\n",
       "      <td>0.219422</td>\n",
       "      <td>0.215153</td>\n",
       "      <td>69.99</td>\n",
       "      <td>0</td>\n",
       "    </tr>\n",
       "    <tr>\n",
       "      <th>5</th>\n",
       "      <td>2.0</td>\n",
       "      <td>-0.425966</td>\n",
       "      <td>0.960523</td>\n",
       "      <td>1.141109</td>\n",
       "      <td>-0.168252</td>\n",
       "      <td>0.420987</td>\n",
       "      <td>-0.029728</td>\n",
       "      <td>0.476201</td>\n",
       "      <td>0.260314</td>\n",
       "      <td>-0.568671</td>\n",
       "      <td>...</td>\n",
       "      <td>-0.208254</td>\n",
       "      <td>-0.559825</td>\n",
       "      <td>-0.026398</td>\n",
       "      <td>-0.371427</td>\n",
       "      <td>-0.232794</td>\n",
       "      <td>0.105915</td>\n",
       "      <td>0.253844</td>\n",
       "      <td>0.081080</td>\n",
       "      <td>3.67</td>\n",
       "      <td>0</td>\n",
       "    </tr>\n",
       "    <tr>\n",
       "      <th>6</th>\n",
       "      <td>4.0</td>\n",
       "      <td>1.229658</td>\n",
       "      <td>0.141004</td>\n",
       "      <td>0.045371</td>\n",
       "      <td>1.202613</td>\n",
       "      <td>0.191881</td>\n",
       "      <td>0.272708</td>\n",
       "      <td>-0.005159</td>\n",
       "      <td>0.081213</td>\n",
       "      <td>0.464960</td>\n",
       "      <td>...</td>\n",
       "      <td>-0.167716</td>\n",
       "      <td>-0.270710</td>\n",
       "      <td>-0.154104</td>\n",
       "      <td>-0.780055</td>\n",
       "      <td>0.750137</td>\n",
       "      <td>-0.257237</td>\n",
       "      <td>0.034507</td>\n",
       "      <td>0.005168</td>\n",
       "      <td>4.99</td>\n",
       "      <td>0</td>\n",
       "    </tr>\n",
       "    <tr>\n",
       "      <th>7</th>\n",
       "      <td>7.0</td>\n",
       "      <td>-0.644269</td>\n",
       "      <td>1.417964</td>\n",
       "      <td>1.074380</td>\n",
       "      <td>-0.492199</td>\n",
       "      <td>0.948934</td>\n",
       "      <td>0.428118</td>\n",
       "      <td>1.120631</td>\n",
       "      <td>-3.807864</td>\n",
       "      <td>0.615375</td>\n",
       "      <td>...</td>\n",
       "      <td>1.943465</td>\n",
       "      <td>-1.015455</td>\n",
       "      <td>0.057504</td>\n",
       "      <td>-0.649709</td>\n",
       "      <td>-0.415267</td>\n",
       "      <td>-0.051634</td>\n",
       "      <td>-1.206921</td>\n",
       "      <td>-1.085339</td>\n",
       "      <td>40.80</td>\n",
       "      <td>0</td>\n",
       "    </tr>\n",
       "    <tr>\n",
       "      <th>8</th>\n",
       "      <td>7.0</td>\n",
       "      <td>-0.894286</td>\n",
       "      <td>0.286157</td>\n",
       "      <td>-0.113192</td>\n",
       "      <td>-0.271526</td>\n",
       "      <td>2.669599</td>\n",
       "      <td>3.721818</td>\n",
       "      <td>0.370145</td>\n",
       "      <td>0.851084</td>\n",
       "      <td>-0.392048</td>\n",
       "      <td>...</td>\n",
       "      <td>-0.073425</td>\n",
       "      <td>-0.268092</td>\n",
       "      <td>-0.204233</td>\n",
       "      <td>1.011592</td>\n",
       "      <td>0.373205</td>\n",
       "      <td>-0.384157</td>\n",
       "      <td>0.011747</td>\n",
       "      <td>0.142404</td>\n",
       "      <td>93.20</td>\n",
       "      <td>0</td>\n",
       "    </tr>\n",
       "    <tr>\n",
       "      <th>9</th>\n",
       "      <td>9.0</td>\n",
       "      <td>-0.338262</td>\n",
       "      <td>1.119593</td>\n",
       "      <td>1.044367</td>\n",
       "      <td>-0.222187</td>\n",
       "      <td>0.499361</td>\n",
       "      <td>-0.246761</td>\n",
       "      <td>0.651583</td>\n",
       "      <td>0.069539</td>\n",
       "      <td>-0.736727</td>\n",
       "      <td>...</td>\n",
       "      <td>-0.246914</td>\n",
       "      <td>-0.633753</td>\n",
       "      <td>-0.120794</td>\n",
       "      <td>-0.385050</td>\n",
       "      <td>-0.069733</td>\n",
       "      <td>0.094199</td>\n",
       "      <td>0.246219</td>\n",
       "      <td>0.083076</td>\n",
       "      <td>3.68</td>\n",
       "      <td>0</td>\n",
       "    </tr>\n",
       "  </tbody>\n",
       "</table>\n",
       "<p>10 rows × 31 columns</p>\n",
       "</div>"
      ],
      "text/plain": [
       "   Time        V1        V2        V3        V4        V5        V6        V7  \\\n",
       "0   0.0 -1.359807 -0.072781  2.536347  1.378155 -0.338321  0.462388  0.239599   \n",
       "1   0.0  1.191857  0.266151  0.166480  0.448154  0.060018 -0.082361 -0.078803   \n",
       "2   1.0 -1.358354 -1.340163  1.773209  0.379780 -0.503198  1.800499  0.791461   \n",
       "3   1.0 -0.966272 -0.185226  1.792993 -0.863291 -0.010309  1.247203  0.237609   \n",
       "4   2.0 -1.158233  0.877737  1.548718  0.403034 -0.407193  0.095921  0.592941   \n",
       "5   2.0 -0.425966  0.960523  1.141109 -0.168252  0.420987 -0.029728  0.476201   \n",
       "6   4.0  1.229658  0.141004  0.045371  1.202613  0.191881  0.272708 -0.005159   \n",
       "7   7.0 -0.644269  1.417964  1.074380 -0.492199  0.948934  0.428118  1.120631   \n",
       "8   7.0 -0.894286  0.286157 -0.113192 -0.271526  2.669599  3.721818  0.370145   \n",
       "9   9.0 -0.338262  1.119593  1.044367 -0.222187  0.499361 -0.246761  0.651583   \n",
       "\n",
       "         V8        V9  ...       V21       V22       V23       V24       V25  \\\n",
       "0  0.098698  0.363787  ... -0.018307  0.277838 -0.110474  0.066928  0.128539   \n",
       "1  0.085102 -0.255425  ... -0.225775 -0.638672  0.101288 -0.339846  0.167170   \n",
       "2  0.247676 -1.514654  ...  0.247998  0.771679  0.909412 -0.689281 -0.327642   \n",
       "3  0.377436 -1.387024  ... -0.108300  0.005274 -0.190321 -1.175575  0.647376   \n",
       "4 -0.270533  0.817739  ... -0.009431  0.798278 -0.137458  0.141267 -0.206010   \n",
       "5  0.260314 -0.568671  ... -0.208254 -0.559825 -0.026398 -0.371427 -0.232794   \n",
       "6  0.081213  0.464960  ... -0.167716 -0.270710 -0.154104 -0.780055  0.750137   \n",
       "7 -3.807864  0.615375  ...  1.943465 -1.015455  0.057504 -0.649709 -0.415267   \n",
       "8  0.851084 -0.392048  ... -0.073425 -0.268092 -0.204233  1.011592  0.373205   \n",
       "9  0.069539 -0.736727  ... -0.246914 -0.633753 -0.120794 -0.385050 -0.069733   \n",
       "\n",
       "        V26       V27       V28  Amount  Class  \n",
       "0 -0.189115  0.133558 -0.021053  149.62      0  \n",
       "1  0.125895 -0.008983  0.014724    2.69      0  \n",
       "2 -0.139097 -0.055353 -0.059752  378.66      0  \n",
       "3 -0.221929  0.062723  0.061458  123.50      0  \n",
       "4  0.502292  0.219422  0.215153   69.99      0  \n",
       "5  0.105915  0.253844  0.081080    3.67      0  \n",
       "6 -0.257237  0.034507  0.005168    4.99      0  \n",
       "7 -0.051634 -1.206921 -1.085339   40.80      0  \n",
       "8 -0.384157  0.011747  0.142404   93.20      0  \n",
       "9  0.094199  0.246219  0.083076    3.68      0  \n",
       "\n",
       "[10 rows x 31 columns]"
      ]
     },
     "execution_count": 2,
     "metadata": {},
     "output_type": "execute_result"
    }
   ],
   "source": [
    "creditcard = pd.read_csv('../input/creditcardfraud/creditcard.csv', sep=',')\n",
    "\n",
    "creditcard.head(10)"
   ]
  },
  {
   "cell_type": "markdown",
   "metadata": {
    "papermill": {
     "duration": 0.027108,
     "end_time": "2020-12-29T06:07:47.680108",
     "exception": false,
     "start_time": "2020-12-29T06:07:47.653000",
     "status": "completed"
    },
    "tags": []
   },
   "source": [
    "\n",
    "As we can see, the data set contains the time, 28 references regarding the card's consumption behavior, the amount spent and the binary classification (fraudulent or not). Below, the data is splitted between train and test sets (70/30 classic distribution)"
   ]
  },
  {
   "cell_type": "code",
   "execution_count": 3,
   "metadata": {
    "execution": {
     "iopub.execute_input": "2020-12-29T06:07:47.743249Z",
     "iopub.status.busy": "2020-12-29T06:07:47.742025Z",
     "iopub.status.idle": "2020-12-29T06:07:48.038314Z",
     "shell.execute_reply": "2020-12-29T06:07:48.037788Z"
    },
    "papermill": {
     "duration": 0.331161,
     "end_time": "2020-12-29T06:07:48.038430",
     "exception": false,
     "start_time": "2020-12-29T06:07:47.707269",
     "status": "completed"
    },
    "tags": []
   },
   "outputs": [],
   "source": [
    "array = creditcard.values\n",
    "X = array[:,0:30]\n",
    "Y = array[:,30]\n",
    "\n",
    "X_train, X_test, y_train, y_test = train_test_split(X, Y, test_size=0.3, stratify=Y)"
   ]
  },
  {
   "cell_type": "markdown",
   "metadata": {
    "papermill": {
     "duration": 0.027739,
     "end_time": "2020-12-29T06:07:48.094000",
     "exception": false,
     "start_time": "2020-12-29T06:07:48.066261",
     "status": "completed"
    },
    "tags": []
   },
   "source": [
    "## Feature Selection (Importance)"
   ]
  },
  {
   "cell_type": "markdown",
   "metadata": {
    "papermill": {
     "duration": 0.026945,
     "end_time": "2020-12-29T06:07:48.149210",
     "exception": false,
     "start_time": "2020-12-29T06:07:48.122265",
     "status": "completed"
    },
    "tags": []
   },
   "source": [
    "Tree-based estimators can be used to compute impurity-based feature importances, which in turn can be used to discard irrelevant features (https://scikit-learn.org/stable/modules/feature_selection.html). This technique will help find the best variables to be used in the models."
   ]
  },
  {
   "cell_type": "code",
   "execution_count": 4,
   "metadata": {
    "execution": {
     "iopub.execute_input": "2020-12-29T06:07:48.209975Z",
     "iopub.status.busy": "2020-12-29T06:07:48.208880Z",
     "iopub.status.idle": "2020-12-29T06:07:51.771816Z",
     "shell.execute_reply": "2020-12-29T06:07:51.772737Z"
    },
    "papermill": {
     "duration": 3.596499,
     "end_time": "2020-12-29T06:07:51.772968",
     "exception": false,
     "start_time": "2020-12-29T06:07:48.176469",
     "status": "completed"
    },
    "tags": []
   },
   "outputs": [
    {
     "name": "stdout",
     "output_type": "stream",
     "text": [
      "[0.01550006 0.01298873 0.01238563 0.04741716 0.03261485 0.01691429\n",
      " 0.01251752 0.02694759 0.0144772  0.03797404 0.06644196 0.11798109\n",
      " 0.09241356 0.01029416 0.09731916 0.0103854  0.05131613 0.12910747\n",
      " 0.0627481  0.00956635 0.01028833 0.01526257 0.0125403  0.00943741\n",
      " 0.01329376 0.01103907 0.01447744 0.01242086 0.01158457 0.01234524]\n"
     ]
    }
   ],
   "source": [
    "# feature extraction\n",
    "fi = ExtraTreesClassifier(n_estimators=10)\n",
    "fi.fit(X, Y)\n",
    "print(fi.feature_importances_)"
   ]
  },
  {
   "cell_type": "markdown",
   "metadata": {
    "papermill": {
     "duration": 0.09262,
     "end_time": "2020-12-29T06:07:51.913516",
     "exception": false,
     "start_time": "2020-12-29T06:07:51.820896",
     "status": "completed"
    },
    "tags": []
   },
   "source": [
    "## Models"
   ]
  },
  {
   "cell_type": "markdown",
   "metadata": {
    "papermill": {
     "duration": 0.044039,
     "end_time": "2020-12-29T06:07:51.999554",
     "exception": false,
     "start_time": "2020-12-29T06:07:51.955515",
     "status": "completed"
    },
    "tags": []
   },
   "source": [
    "For this notebook, three classification models were tested: **K-Nearest Neighbor**, **Random Forest** and **Logistic Regression**, all using the sklearn library. Initially, X and y receive new values, based on the most representative variables found by Feature Selection."
   ]
  },
  {
   "cell_type": "code",
   "execution_count": 5,
   "metadata": {
    "execution": {
     "iopub.execute_input": "2020-12-29T06:07:52.067863Z",
     "iopub.status.busy": "2020-12-29T06:07:52.066251Z",
     "iopub.status.idle": "2020-12-29T06:07:52.311590Z",
     "shell.execute_reply": "2020-12-29T06:07:52.311040Z"
    },
    "papermill": {
     "duration": 0.281364,
     "end_time": "2020-12-29T06:07:52.311724",
     "exception": false,
     "start_time": "2020-12-29T06:07:52.030360",
     "status": "completed"
    },
    "tags": []
   },
   "outputs": [],
   "source": [
    "array = creditcard.values\n",
    "X = array[:, [17,14,10,12,11]]\n",
    "Y = array[:,30]\n",
    "X_train, X_test, y_train, y_test = train_test_split(X, Y, test_size=0.3, stratify=Y)"
   ]
  },
  {
   "cell_type": "markdown",
   "metadata": {
    "papermill": {
     "duration": 0.031794,
     "end_time": "2020-12-29T06:07:52.376595",
     "exception": false,
     "start_time": "2020-12-29T06:07:52.344801",
     "status": "completed"
    },
    "tags": []
   },
   "source": [
    "### K-Nearest Neighbor"
   ]
  },
  {
   "cell_type": "markdown",
   "metadata": {
    "papermill": {
     "duration": 0.029875,
     "end_time": "2020-12-29T06:07:52.435838",
     "exception": false,
     "start_time": "2020-12-29T06:07:52.405963",
     "status": "completed"
    },
    "tags": []
   },
   "source": [
    "Classifier implementing the k-nearest neighbors vote (https://scikit-learn.org/stable/modules/generated/sklearn.neighbors.KNeighborsClassifier.html). First, a new kNN model is created, then we create a dictionary of all values we want to test for n_neighbors. GridSearch is used to test all values for n_neighbors, and finally we fit the model to the training data."
   ]
  },
  {
   "cell_type": "code",
   "execution_count": 6,
   "metadata": {
    "execution": {
     "iopub.execute_input": "2020-12-29T06:07:52.510274Z",
     "iopub.status.busy": "2020-12-29T06:07:52.506246Z",
     "iopub.status.idle": "2020-12-29T06:18:18.696955Z",
     "shell.execute_reply": "2020-12-29T06:18:18.696383Z"
    },
    "papermill": {
     "duration": 626.230123,
     "end_time": "2020-12-29T06:18:18.697070",
     "exception": false,
     "start_time": "2020-12-29T06:07:52.466947",
     "status": "completed"
    },
    "tags": []
   },
   "outputs": [
    {
     "name": "stdout",
     "output_type": "stream",
     "text": [
      "CPU times: user 1.46 s, sys: 171 ms, total: 1.63 s\n",
      "Wall time: 10min 22s\n"
     ]
    }
   ],
   "source": [
    "knn = KNeighborsClassifier(algorithm='auto')\n",
    "params_knn = {\n",
    "    'n_neighbors': (1,30, 1),\n",
    "    'leaf_size': (20,40,1),\n",
    "    'p': (1,2),\n",
    "    'weights': ('uniform', 'distance'),\n",
    "    'metric': ('minkowski', 'chebyshev')}\n",
    "knn_gs = GridSearchCV(\n",
    "    estimator=knn,\n",
    "    param_grid=params_knn,\n",
    "    scoring = 'accuracy',\n",
    "    n_jobs = -1,\n",
    "    cv = 5)\n",
    "\n",
    "%time knn_gs.fit(X_train, y_train)\n",
    "y_pred = knn_gs.predict(X_test)"
   ]
  },
  {
   "cell_type": "markdown",
   "metadata": {
    "papermill": {
     "duration": 0.028593,
     "end_time": "2020-12-29T06:18:18.755439",
     "exception": false,
     "start_time": "2020-12-29T06:18:18.726846",
     "status": "completed"
    },
    "tags": []
   },
   "source": [
    "Here, the best model is saved and the best parameters are shown, together with model's Area Under the Curve (AUC - https://scikit-learn.org/stable/modules/generated/sklearn.metrics.auc.html). "
   ]
  },
  {
   "cell_type": "code",
   "execution_count": 7,
   "metadata": {
    "execution": {
     "iopub.execute_input": "2020-12-29T06:18:18.821298Z",
     "iopub.status.busy": "2020-12-29T06:18:18.820492Z",
     "iopub.status.idle": "2020-12-29T06:18:18.830257Z",
     "shell.execute_reply": "2020-12-29T06:18:18.830766Z"
    },
    "papermill": {
     "duration": 0.046506,
     "end_time": "2020-12-29T06:18:18.830894",
     "exception": false,
     "start_time": "2020-12-29T06:18:18.784388",
     "status": "completed"
    },
    "tags": []
   },
   "outputs": [
    {
     "name": "stdout",
     "output_type": "stream",
     "text": [
      "{'leaf_size': 20, 'metric': 'minkowski', 'n_neighbors': 30, 'p': 2, 'weights': 'distance'}\n"
     ]
    }
   ],
   "source": [
    "knn_best = knn_gs.best_estimator_\n",
    "print(knn_gs.best_params_)\n",
    "fpr, tpr, _ = roc_curve(y_test, y_pred)\n",
    "\n",
    "knn_auc = auc(fpr, tpr)"
   ]
  },
  {
   "cell_type": "markdown",
   "metadata": {
    "papermill": {
     "duration": 0.029028,
     "end_time": "2020-12-29T06:18:18.890370",
     "exception": false,
     "start_time": "2020-12-29T06:18:18.861342",
     "status": "completed"
    },
    "tags": []
   },
   "source": [
    "### Random Forest"
   ]
  },
  {
   "cell_type": "markdown",
   "metadata": {
    "papermill": {
     "duration": 0.029009,
     "end_time": "2020-12-29T06:18:18.948438",
     "exception": false,
     "start_time": "2020-12-29T06:18:18.919429",
     "status": "completed"
    },
    "tags": []
   },
   "source": [
    "A Random Forest is a meta estimator that fits a number of decision tree classifiers on various sub-samples of the dataset and uses averaging to improve the predictive accuracy and control overfitting (https://scikit-learn.org/stable/modules/generated/sklearn.neighbors.KNeighborsClassifier.html). Below, we create a new Random Forest Classifier, a dictionary of all values we want to test for n_estimators and we use gridsearch to test all values for n_estimators, finally fitting the model to training data."
   ]
  },
  {
   "cell_type": "code",
   "execution_count": 8,
   "metadata": {
    "execution": {
     "iopub.execute_input": "2020-12-29T06:18:19.014912Z",
     "iopub.status.busy": "2020-12-29T06:18:19.014054Z",
     "iopub.status.idle": "2020-12-29T06:35:03.842225Z",
     "shell.execute_reply": "2020-12-29T06:35:03.843067Z"
    },
    "papermill": {
     "duration": 1004.865897,
     "end_time": "2020-12-29T06:35:03.843286",
     "exception": false,
     "start_time": "2020-12-29T06:18:18.977389",
     "status": "completed"
    },
    "tags": []
   },
   "outputs": [
    {
     "name": "stdout",
     "output_type": "stream",
     "text": [
      "CPU times: user 16min 32s, sys: 681 ms, total: 16min 33s\n",
      "Wall time: 16min 44s\n"
     ]
    }
   ],
   "source": [
    "rf = RandomForestClassifier()\n",
    "params_rf = {\"n_estimators\": np.arange(1,30,1)}\n",
    "rf_gs = GridSearchCV(rf, params_rf, cv=5)\n",
    "\n",
    "%time rf_gs.fit(X_train, y_train)\n",
    "y_pred = rf_gs.predict(X_test)"
   ]
  },
  {
   "cell_type": "markdown",
   "metadata": {
    "papermill": {
     "duration": 0.029236,
     "end_time": "2020-12-29T06:35:03.902791",
     "exception": false,
     "start_time": "2020-12-29T06:35:03.873555",
     "status": "completed"
    },
    "tags": []
   },
   "source": [
    "Here, the best model is saved and the best parameters are shown, together with model's Area Under the Curve (AUC - https://scikit-learn.org/stable/modules/generated/sklearn.metrics.auc.html). "
   ]
  },
  {
   "cell_type": "code",
   "execution_count": 9,
   "metadata": {
    "execution": {
     "iopub.execute_input": "2020-12-29T06:35:03.967546Z",
     "iopub.status.busy": "2020-12-29T06:35:03.966680Z",
     "iopub.status.idle": "2020-12-29T06:35:03.977889Z",
     "shell.execute_reply": "2020-12-29T06:35:03.977398Z"
    },
    "papermill": {
     "duration": 0.045879,
     "end_time": "2020-12-29T06:35:03.977990",
     "exception": false,
     "start_time": "2020-12-29T06:35:03.932111",
     "status": "completed"
    },
    "tags": []
   },
   "outputs": [
    {
     "name": "stdout",
     "output_type": "stream",
     "text": [
      "{'n_estimators': 26}\n"
     ]
    }
   ],
   "source": [
    "rf_best = rf_gs.best_estimator_\n",
    "print(rf_gs.best_params_)\n",
    "\n",
    "fpr, tpr, _ = roc_curve(y_test, y_pred)\n",
    "\n",
    "rf_auc = auc(fpr, tpr) "
   ]
  },
  {
   "cell_type": "markdown",
   "metadata": {
    "papermill": {
     "duration": 0.029426,
     "end_time": "2020-12-29T06:35:04.037152",
     "exception": false,
     "start_time": "2020-12-29T06:35:04.007726",
     "status": "completed"
    },
    "tags": []
   },
   "source": [
    "### Logistic Regression"
   ]
  },
  {
   "cell_type": "markdown",
   "metadata": {
    "papermill": {
     "duration": 0.038602,
     "end_time": "2020-12-29T06:35:04.105868",
     "exception": false,
     "start_time": "2020-12-29T06:35:04.067266",
     "status": "completed"
    },
    "tags": []
   },
   "source": [
    "This class implements regularized logistic regression using the ‘liblinear’ library, ‘newton-cg’, ‘sag’, ‘saga’ and ‘lbfgs’ solvers. Note that regularization is applied by default. It can handle both dense and sparse input. Use C-ordered arrays or CSR matrices containing 64-bit floats for optimal performance (https://scikit-learn.org/stable/modules/generated/sklearn.linear_model.LogisticRegression.html). Here, we create a new logistic regression model and just fit the model to the training data"
   ]
  },
  {
   "cell_type": "code",
   "execution_count": 10,
   "metadata": {
    "execution": {
     "iopub.execute_input": "2020-12-29T06:35:04.189463Z",
     "iopub.status.busy": "2020-12-29T06:35:04.188413Z",
     "iopub.status.idle": "2020-12-29T06:35:04.497891Z",
     "shell.execute_reply": "2020-12-29T06:35:04.498682Z"
    },
    "papermill": {
     "duration": 0.360917,
     "end_time": "2020-12-29T06:35:04.498868",
     "exception": false,
     "start_time": "2020-12-29T06:35:04.137951",
     "status": "completed"
    },
    "tags": []
   },
   "outputs": [
    {
     "name": "stdout",
     "output_type": "stream",
     "text": [
      "CPU times: user 255 ms, sys: 2 ms, total: 257 ms\n",
      "Wall time: 304 ms\n"
     ]
    }
   ],
   "source": [
    "log_reg = LogisticRegression(max_iter=1000)\n",
    "%time log_reg.fit(X_train, y_train)\n",
    "y_pred = log_reg.predict(X_test)"
   ]
  },
  {
   "cell_type": "markdown",
   "metadata": {
    "papermill": {
     "duration": 0.030569,
     "end_time": "2020-12-29T06:35:04.560788",
     "exception": false,
     "start_time": "2020-12-29T06:35:04.530219",
     "status": "completed"
    },
    "tags": []
   },
   "source": [
    "Here, the best model is saved and the best parameters are shown, together with model's Area Under the Curve (AUC - https://scikit-learn.org/stable/modules/generated/sklearn.metrics.auc.html). "
   ]
  },
  {
   "cell_type": "code",
   "execution_count": 11,
   "metadata": {
    "execution": {
     "iopub.execute_input": "2020-12-29T06:35:04.628109Z",
     "iopub.status.busy": "2020-12-29T06:35:04.627293Z",
     "iopub.status.idle": "2020-12-29T06:35:04.636214Z",
     "shell.execute_reply": "2020-12-29T06:35:04.635744Z"
    },
    "papermill": {
     "duration": 0.043973,
     "end_time": "2020-12-29T06:35:04.636315",
     "exception": false,
     "start_time": "2020-12-29T06:35:04.592342",
     "status": "completed"
    },
    "tags": []
   },
   "outputs": [],
   "source": [
    "fpr, tpr, _ = roc_curve(y_test, y_pred)\n",
    "\n",
    "lr_auc = auc(fpr, tpr)"
   ]
  },
  {
   "cell_type": "markdown",
   "metadata": {
    "papermill": {
     "duration": 0.030864,
     "end_time": "2020-12-29T06:35:04.697831",
     "exception": false,
     "start_time": "2020-12-29T06:35:04.666967",
     "status": "completed"
    },
    "tags": []
   },
   "source": [
    "## Ensemble (Voting/Stacking Classifiers)"
   ]
  },
  {
   "cell_type": "markdown",
   "metadata": {
    "papermill": {
     "duration": 0.030188,
     "end_time": "2020-12-29T06:35:04.760374",
     "exception": false,
     "start_time": "2020-12-29T06:35:04.730186",
     "status": "completed"
    },
    "tags": []
   },
   "source": [
    "The goal of ensemble methods is to combine the predictions of several base estimators built with a given learning algorithm in order to improve generalizability / robustness over a single estimator (https://scikit-learn.org/stable/modules/ensemble.html). Below, we create a dictionary of our models"
   ]
  },
  {
   "cell_type": "code",
   "execution_count": 12,
   "metadata": {
    "execution": {
     "iopub.execute_input": "2020-12-29T06:35:04.827073Z",
     "iopub.status.busy": "2020-12-29T06:35:04.825301Z",
     "iopub.status.idle": "2020-12-29T06:35:04.827734Z",
     "shell.execute_reply": "2020-12-29T06:35:04.828196Z"
    },
    "papermill": {
     "duration": 0.0377,
     "end_time": "2020-12-29T06:35:04.828308",
     "exception": false,
     "start_time": "2020-12-29T06:35:04.790608",
     "status": "completed"
    },
    "tags": []
   },
   "outputs": [],
   "source": [
    "estimators=[(\"knn\", knn_best), (\"rf\", rf_best), (\"log_reg\", log_reg)]"
   ]
  },
  {
   "cell_type": "markdown",
   "metadata": {
    "papermill": {
     "duration": 0.031152,
     "end_time": "2020-12-29T06:35:04.889722",
     "exception": false,
     "start_time": "2020-12-29T06:35:04.858570",
     "status": "completed"
    },
    "tags": []
   },
   "source": [
    "### Voting Classifier"
   ]
  },
  {
   "cell_type": "markdown",
   "metadata": {
    "papermill": {
     "duration": 0.030188,
     "end_time": "2020-12-29T06:35:04.950100",
     "exception": false,
     "start_time": "2020-12-29T06:35:04.919912",
     "status": "completed"
    },
    "tags": []
   },
   "source": [
    "The idea behind the VotingClassifier is to combine conceptually different machine learning classifiers and use a majority vote or the average predicted probabilities (soft vote) to predict the class labels. Such a classifier can be useful for a set of equally well performing model in order to balance out their individual weaknesses (https://scikit-learn.org/stable/modules/ensemble.html). Here, we create our voting classifier, inputing our models, fit on training and test our model in data."
   ]
  },
  {
   "cell_type": "code",
   "execution_count": 13,
   "metadata": {
    "execution": {
     "iopub.execute_input": "2020-12-29T06:35:05.017909Z",
     "iopub.status.busy": "2020-12-29T06:35:05.017086Z",
     "iopub.status.idle": "2020-12-29T06:35:31.743501Z",
     "shell.execute_reply": "2020-12-29T06:35:31.742062Z"
    },
    "papermill": {
     "duration": 26.762902,
     "end_time": "2020-12-29T06:35:31.743619",
     "exception": false,
     "start_time": "2020-12-29T06:35:04.980717",
     "status": "completed"
    },
    "tags": []
   },
   "outputs": [],
   "source": [
    "ensemble_class = VotingClassifier(estimators, voting=\"hard\")\n",
    "\n",
    "ensemble_class.fit(X_train, y_train)\n",
    "\n",
    "ensemble_class.score(X_test, y_test)\n",
    "y_pred = ensemble_class.predict(X_test)"
   ]
  },
  {
   "cell_type": "markdown",
   "metadata": {
    "papermill": {
     "duration": 0.031046,
     "end_time": "2020-12-29T06:35:31.806353",
     "exception": false,
     "start_time": "2020-12-29T06:35:31.775307",
     "status": "completed"
    },
    "tags": []
   },
   "source": [
    "Here, the best model is saved and the best parameters are shown, together with model's Area Under the Curve (AUC - https://scikit-learn.org/stable/modules/generated/sklearn.metrics.auc.html). "
   ]
  },
  {
   "cell_type": "code",
   "execution_count": 14,
   "metadata": {
    "execution": {
     "iopub.execute_input": "2020-12-29T06:35:31.873798Z",
     "iopub.status.busy": "2020-12-29T06:35:31.873014Z",
     "iopub.status.idle": "2020-12-29T06:35:31.881921Z",
     "shell.execute_reply": "2020-12-29T06:35:31.881389Z"
    },
    "papermill": {
     "duration": 0.04461,
     "end_time": "2020-12-29T06:35:31.882017",
     "exception": false,
     "start_time": "2020-12-29T06:35:31.837407",
     "status": "completed"
    },
    "tags": []
   },
   "outputs": [],
   "source": [
    "fpr, tpr, _ = roc_curve(y_test, y_pred)\n",
    "\n",
    "ensemble_class_auc = auc(fpr, tpr) "
   ]
  },
  {
   "cell_type": "markdown",
   "metadata": {
    "papermill": {
     "duration": 0.030774,
     "end_time": "2020-12-29T06:35:31.944507",
     "exception": false,
     "start_time": "2020-12-29T06:35:31.913733",
     "status": "completed"
    },
    "tags": []
   },
   "source": [
    "### Stacking Classifier"
   ]
  },
  {
   "cell_type": "markdown",
   "metadata": {
    "papermill": {
     "duration": 0.031557,
     "end_time": "2020-12-29T06:35:32.007929",
     "exception": false,
     "start_time": "2020-12-29T06:35:31.976372",
     "status": "completed"
    },
    "tags": []
   },
   "source": [
    "Stacked generalization is a method for combining estimators to reduce their biases. More precisely, the predictions of each individual estimator are stacked together and used as input to a final estimator to compute the prediction. This final estimator is trained through cross-validation (https://scikit-learn.org/stable/modules/ensemble.html). Here, we create our stacking classifier, inputing our models, fit on training and test our model in data."
   ]
  },
  {
   "cell_type": "code",
   "execution_count": 15,
   "metadata": {
    "execution": {
     "iopub.execute_input": "2020-12-29T06:35:32.076988Z",
     "iopub.status.busy": "2020-12-29T06:35:32.076181Z",
     "iopub.status.idle": "2020-12-29T06:37:10.159607Z",
     "shell.execute_reply": "2020-12-29T06:37:10.159011Z"
    },
    "papermill": {
     "duration": 98.120769,
     "end_time": "2020-12-29T06:37:10.159768",
     "exception": false,
     "start_time": "2020-12-29T06:35:32.038999",
     "status": "completed"
    },
    "tags": []
   },
   "outputs": [],
   "source": [
    "ensemble_stack = StackingClassifier(estimators=estimators)\n",
    "\n",
    "ensemble_stack.fit(X_train, y_train)\n",
    "\n",
    "ensemble_stack.score(X_test, y_test)\n",
    "y_pred = ensemble_stack.predict(X_test)"
   ]
  },
  {
   "cell_type": "markdown",
   "metadata": {
    "papermill": {
     "duration": 0.031551,
     "end_time": "2020-12-29T06:37:10.224598",
     "exception": false,
     "start_time": "2020-12-29T06:37:10.193047",
     "status": "completed"
    },
    "tags": []
   },
   "source": [
    "Here, the best model is saved and the best parameters are shown, together with model's Area Under the Curve (AUC - https://scikit-learn.org/stable/modules/generated/sklearn.metrics.auc.html). "
   ]
  },
  {
   "cell_type": "code",
   "execution_count": 16,
   "metadata": {
    "execution": {
     "iopub.execute_input": "2020-12-29T06:37:10.301710Z",
     "iopub.status.busy": "2020-12-29T06:37:10.301075Z",
     "iopub.status.idle": "2020-12-29T06:37:10.311692Z",
     "shell.execute_reply": "2020-12-29T06:37:10.311153Z"
    },
    "papermill": {
     "duration": 0.052607,
     "end_time": "2020-12-29T06:37:10.311794",
     "exception": false,
     "start_time": "2020-12-29T06:37:10.259187",
     "status": "completed"
    },
    "tags": []
   },
   "outputs": [],
   "source": [
    "fpr, tpr, _ = roc_curve(y_test, y_pred)\n",
    "\n",
    "ensemble_stack_auc = auc(fpr, tpr)"
   ]
  },
  {
   "cell_type": "markdown",
   "metadata": {
    "papermill": {
     "duration": 0.031056,
     "end_time": "2020-12-29T06:37:10.374118",
     "exception": false,
     "start_time": "2020-12-29T06:37:10.343062",
     "status": "completed"
    },
    "tags": []
   },
   "source": [
    "## Model Metrics"
   ]
  },
  {
   "cell_type": "markdown",
   "metadata": {
    "papermill": {
     "duration": 0.030996,
     "end_time": "2020-12-29T06:37:10.436540",
     "exception": false,
     "start_time": "2020-12-29T06:37:10.405544",
     "status": "completed"
    },
    "tags": []
   },
   "source": [
    "In this section, all models are compared and its results shown. Considering the score, all models are very similar, so we need more metrics to see its differences."
   ]
  },
  {
   "cell_type": "code",
   "execution_count": 17,
   "metadata": {
    "execution": {
     "iopub.execute_input": "2020-12-29T06:37:10.506157Z",
     "iopub.status.busy": "2020-12-29T06:37:10.505058Z",
     "iopub.status.idle": "2020-12-29T06:37:24.099638Z",
     "shell.execute_reply": "2020-12-29T06:37:24.100773Z"
    },
    "papermill": {
     "duration": 13.633392,
     "end_time": "2020-12-29T06:37:24.100965",
     "exception": false,
     "start_time": "2020-12-29T06:37:10.467573",
     "status": "completed"
    },
    "tags": []
   },
   "outputs": [
    {
     "name": "stdout",
     "output_type": "stream",
     "text": [
      "KNN Score: 0.999403110845827\n",
      "RF Score: 0.9994148145547324\n",
      "Log_Reg Score: 0.9990754069964772\n",
      "Ensemble Voting Score: 0.999403110845827\n",
      "Ensemble Stacking Score: 0.9994382219725431\n"
     ]
    }
   ],
   "source": [
    "print(\"KNN Score: {}\".format(knn_best.score(X_test, y_test)))\n",
    "print(\"RF Score: {}\".format(rf_best.score(X_test, y_test)))\n",
    "print(\"Log_Reg Score: {}\".format(log_reg.score(X_test, y_test)))\n",
    "print(\"Ensemble Voting Score: {}\".format(ensemble_class.score(X_test, y_test)))\n",
    "print(\"Ensemble Stacking Score: {}\".format(ensemble_stack.score(X_test, y_test)))"
   ]
  },
  {
   "cell_type": "markdown",
   "metadata": {
    "papermill": {
     "duration": 0.032306,
     "end_time": "2020-12-29T06:37:24.168090",
     "exception": false,
     "start_time": "2020-12-29T06:37:24.135784",
     "status": "completed"
    },
    "tags": []
   },
   "source": [
    "When using AUC, it is possible to see that the objective was achieved: to find a percentage of precision using only the variables chosen by the Feature Selection (which possibly also decreased overfitting). Of all models, kNN had the best results (89.52%), while Logistic Regression was the one with the worst (77.69%)"
   ]
  },
  {
   "cell_type": "code",
   "execution_count": 18,
   "metadata": {
    "execution": {
     "iopub.execute_input": "2020-12-29T06:37:24.240314Z",
     "iopub.status.busy": "2020-12-29T06:37:24.239521Z",
     "iopub.status.idle": "2020-12-29T06:37:24.244243Z",
     "shell.execute_reply": "2020-12-29T06:37:24.244954Z"
    },
    "papermill": {
     "duration": 0.044839,
     "end_time": "2020-12-29T06:37:24.245114",
     "exception": false,
     "start_time": "2020-12-29T06:37:24.200275",
     "status": "completed"
    },
    "tags": []
   },
   "outputs": [
    {
     "name": "stdout",
     "output_type": "stream",
     "text": [
      "KNN AUC: 0.881662964623572\n",
      "RF AUC: 0.871551277521733\n",
      "Log_Reg AUC: 0.7904408863990317\n",
      "Ensemble Voting AUC: 0.8681728991433546\n",
      "Ensemble Stacking AUC: 0.8614454524282181\n"
     ]
    }
   ],
   "source": [
    "print(\"KNN AUC: {}\".format(knn_auc))\n",
    "print(\"RF AUC: {}\".format(rf_auc))\n",
    "print(\"Log_Reg AUC: {}\".format(lr_auc))\n",
    "print(\"Ensemble Voting AUC: {}\".format(ensemble_class_auc))\n",
    "print(\"Ensemble Stacking AUC: {}\".format(ensemble_stack_auc))"
   ]
  },
  {
   "cell_type": "markdown",
   "metadata": {
    "papermill": {
     "duration": 0.033227,
     "end_time": "2020-12-29T06:37:24.312957",
     "exception": false,
     "start_time": "2020-12-29T06:37:24.279730",
     "status": "completed"
    },
    "tags": []
   },
   "source": [
    "This plotted results present well the difference between the models."
   ]
  },
  {
   "cell_type": "code",
   "execution_count": 19,
   "metadata": {
    "execution": {
     "iopub.execute_input": "2020-12-29T06:37:24.385832Z",
     "iopub.status.busy": "2020-12-29T06:37:24.385219Z",
     "iopub.status.idle": "2020-12-29T06:37:24.542744Z",
     "shell.execute_reply": "2020-12-29T06:37:24.543245Z"
    },
    "papermill": {
     "duration": 0.197246,
     "end_time": "2020-12-29T06:37:24.543388",
     "exception": false,
     "start_time": "2020-12-29T06:37:24.346142",
     "status": "completed"
    },
    "tags": []
   },
   "outputs": [
    {
     "data": {
      "image/png": "[encoded data removed]",
      "text/plain": [
       "<Figure size 432x288 with 1 Axes>"
      ]
     },
     "metadata": {
      "needs_background": "light"
     },
     "output_type": "display_data"
    }
   ],
   "source": [
    "fig = plt.figure()\n",
    "ax = fig.add_axes([0,0,1,1])\n",
    "models = ['KNN', 'LR', 'Log_Reg', 'Voting', 'Stacking']\n",
    "values = [knn_auc, rf_auc, lr_auc, ensemble_class_auc, ensemble_stack_auc]\n",
    "ax.bar(models, values)\n",
    "plt.show()"
   ]
  },
  {
   "cell_type": "markdown",
   "metadata": {
    "papermill": {
     "duration": 0.033775,
     "end_time": "2020-12-29T06:37:24.612754",
     "exception": false,
     "start_time": "2020-12-29T06:37:24.578979",
     "status": "completed"
    },
    "tags": []
   },
   "source": [
    "The confusion matrix shows that the classification of the model is quite efficient, with a high accuracy of true positives and negatives"
   ]
  },
  {
   "cell_type": "code",
   "execution_count": 20,
   "metadata": {
    "execution": {
     "iopub.execute_input": "2020-12-29T06:37:24.686375Z",
     "iopub.status.busy": "2020-12-29T06:37:24.685118Z",
     "iopub.status.idle": "2020-12-29T06:37:30.013621Z",
     "shell.execute_reply": "2020-12-29T06:37:30.013136Z"
    },
    "papermill": {
     "duration": 5.367312,
     "end_time": "2020-12-29T06:37:30.013770",
     "exception": false,
     "start_time": "2020-12-29T06:37:24.646458",
     "status": "completed"
    },
    "tags": []
   },
   "outputs": [
    {
     "data": {
      "image/png": "[encoded data removed]",
      "text/plain": [
       "<Figure size 432x288 with 2 Axes>"
      ]
     },
     "metadata": {
      "needs_background": "light"
     },
     "output_type": "display_data"
    }
   ],
   "source": [
    "plot_confusion_matrix(knn_gs, X_test, y_test)  \n",
    "plt.show() "
   ]
  }
 ],
 "metadata": {
  "kernelspec": {
   "display_name": "Python 3",
   "language": "python",
   "name": "python3"
  },
  "language_info": {
   "codemirror_mode": {
    "name": "ipython",
    "version": 3
   },
   "file_extension": ".py",
   "mimetype": "text/x-python",
   "name": "python",
   "nbconvert_exporter": "python",
   "pygments_lexer": "ipython3",
   "version": "3.7.6"
  },
  "papermill": {
   "duration": 1792.288866,
   "end_time": "2020-12-29T06:37:30.166538",
   "environment_variables": {},
   "exception": null,
   "input_path": "__notebook__.ipynb",
   "output_path": "__notebook__.ipynb",
   "parameters": {},
   "start_time": "2020-12-29T06:07:37.877672",
   "version": "2.1.0"
  }
 },
 "nbformat": 4,
 "nbformat_minor": 4
}
